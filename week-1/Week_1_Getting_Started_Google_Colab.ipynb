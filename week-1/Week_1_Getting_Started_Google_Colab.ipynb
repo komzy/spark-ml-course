{
  "nbformat": 4,
  "nbformat_minor": 0,
  "metadata": {
    "colab": {
      "name": "Week_1_Getting Started Google Colab.ipynb",
      "provenance": [],
      "collapsed_sections": [],
      "toc_visible": true,
      "authorship_tag": "ABX9TyPNP7m0HGJWTugeV5AxyuB7",
      "include_colab_link": true
    },
    "kernelspec": {
      "name": "python3",
      "display_name": "Python 3"
    }
  },
  "cells": [
    {
      "cell_type": "markdown",
      "metadata": {
        "id": "view-in-github",
        "colab_type": "text"
      },
      "source": [
        "<a href=\"https://colab.research.google.com/github/komzy/spark-ml-course/blob/main/week-1/Week_1_Getting_Started_Google_Colab.ipynb\" target=\"_parent\"><img src=\"https://colab.research.google.com/assets/colab-badge.svg\" alt=\"Open In Colab\"/></a>"
      ]
    },
    {
      "cell_type": "markdown",
      "metadata": {
        "id": "h3sh3aO2YDXX"
      },
      "source": [
        "# Welcome to the course: Machine Learning with Spark\r\n",
        "\r\n",
        "This course is offered by in collaboration of  [AI-LOUNG](http://ai-lounge.com/) & [Datafy2AI](https://www.datafy2ai.com/)\r\n",
        "\r\n",
        "Instructor: [Dr. Muhammad Amjad Raza](https://www.linkedin.com/in/amjadraza/)\r\n",
        "\r\n",
        "## Refresher:\r\n",
        "\r\n",
        "\r\n",
        "1.   Basic outline of the course\r\n",
        "2.   Lecture Schedule\r\n",
        "\r\n",
        "## Learning Objective of this Session:\r\n",
        "\r\n",
        "\r\n",
        "1.   Working Environment \r\n",
        "2.   Getting Strated with Google Colab\r\n",
        "3.   Readings/Tutorial \r\n"
      ]
    },
    {
      "cell_type": "markdown",
      "metadata": {
        "id": "6hasCvlBY1yq"
      },
      "source": [
        "# Coding and Working Environment\r\n",
        "\r\n",
        "Since this course is based on hands-on working style, we have to set up the working runtime. I have selected google colab keeping in view few key points\r\n",
        "\r\n",
        "\r\n",
        "1.   Easy to set up \r\n",
        "2.   Free with Google Account\r\n",
        "3.   Setting up Spark Environment on Base System\r\n",
        "4.   Free Cloud Computing with GPU and TPU support\r\n",
        "5.   Linux operating System\r\n",
        "6.   Integration with GitHub and Google Drive\r\n",
        "7.   Integration with VScode and JupyterLab [Using 3rd Party tooling]  \r\n",
        "8.   Easily switch between Python-2 and Python-3\r\n",
        "\r\n",
        "**The support for Python-2 is no more. We will using PYTHON-3 Through out this course**"
      ]
    },
    {
      "cell_type": "markdown",
      "metadata": {
        "id": "KySBZErha8Ll"
      },
      "source": [
        "# Machine Learning with Google Colab\r\n",
        "\r\n",
        "Setting up machine learning python environment often consumes a lot of time. It is advised to created dedicated environment for each of your project to avoid conflicts across requirements. The need of setting up dedicated environments even becomes more critical when working with SPARK due to the complex dependecies issues. Some of the benefits of using google colab for Machine Learning are\r\n",
        "\r\n",
        "\r\n",
        "\r\n",
        "1. Pre-Defined and tested environemnts for Machine Learning with Deep learning frameworks e.g TensorFlow, PyTorch etc.\r\n",
        "2. Sharing the machine learning notebooks across contributors to  reproduce the results.\r\n",
        "3. Start coding up the model in few minutes\r\n",
        "4. GPU and TPU have already gained attraction to train Machine Learning Models. Users can get the access to them free [Limited though]\r\n",
        "\r\n",
        "\r\n",
        "**Based on above points, I selected the Google Colab Framework for this course**\r\n"
      ]
    },
    {
      "cell_type": "markdown",
      "metadata": {
        "id": "6zoM9QhPgOfr"
      },
      "source": [
        "# Getting Started with Google Colab\r\n",
        "\r\n",
        "Google colab is hosted python framework with pre-installed packages. There are various tutorials written on \"Getting Started with Google Colab\". \r\n",
        "\r\n",
        "Below is one the famous one\r\n",
        "\r\n",
        "https://towardsdatascience.com/getting-started-with-google-colab-f2fff97f594c\r\n",
        "\r\n",
        "**>>Lets Get Started with Google Colab**"
      ]
    },
    {
      "cell_type": "markdown",
      "metadata": {
        "id": "lNpCdAPIhBq0"
      },
      "source": [
        "## Linux Commands\r\n",
        "\r\n",
        "The base operating system for Google colab is Linux based. It is always advantage to learn some basic Linux command line operations. \r\n"
      ]
    },
    {
      "cell_type": "code",
      "metadata": {
        "colab": {
          "base_uri": "https://localhost:8080/"
        },
        "id": "CvbUCzfGgwv-",
        "outputId": "57dd4dba-19f0-4186-d01f-58ef930e1da2"
      },
      "source": [
        "# Current Working Directory\r\n",
        "! pwd"
      ],
      "execution_count": 7,
      "outputs": [
        {
          "output_type": "stream",
          "text": [
            "/content\n"
          ],
          "name": "stdout"
        }
      ]
    },
    {
      "cell_type": "code",
      "metadata": {
        "colab": {
          "base_uri": "https://localhost:8080/"
        },
        "id": "_nRXVKSggxBn",
        "outputId": "567f8f5a-b6bb-41fa-e44f-23f93b0c3161"
      },
      "source": [
        "# the files under current Directory\r\n",
        "! ls"
      ],
      "execution_count": 8,
      "outputs": [
        {
          "output_type": "stream",
          "text": [
            "sample_data\n"
          ],
          "name": "stdout"
        }
      ]
    },
    {
      "cell_type": "code",
      "metadata": {
        "colab": {
          "base_uri": "https://localhost:8080/"
        },
        "id": "GXdWjObGgxH0",
        "outputId": "f7a3d0ef-cfee-46e7-c679-e5a0e58359a9"
      },
      "source": [
        "# Username of the current user\r\n",
        "! whoami"
      ],
      "execution_count": 9,
      "outputs": [
        {
          "output_type": "stream",
          "text": [
            "root\n"
          ],
          "name": "stdout"
        }
      ]
    },
    {
      "cell_type": "code",
      "metadata": {
        "id": "qOHjzrVfgxKc"
      },
      "source": [
        "# Change the Directory\r\n"
      ],
      "execution_count": null,
      "outputs": []
    },
    {
      "cell_type": "code",
      "metadata": {
        "id": "w13BO92MiK9K"
      },
      "source": [
        "# make Directory (ies)\r\n"
      ],
      "execution_count": null,
      "outputs": []
    },
    {
      "cell_type": "code",
      "metadata": {
        "id": "fyjN7IUsiORz"
      },
      "source": [
        "# Delete Directory (ies)"
      ],
      "execution_count": null,
      "outputs": []
    },
    {
      "cell_type": "markdown",
      "metadata": {
        "id": "gW6Q9kTyilKi"
      },
      "source": [
        "## Basic Python\r\n",
        "\r\n",
        "Understanding the Python basic is the pre-requisite of this course. "
      ]
    },
    {
      "cell_type": "code",
      "metadata": {
        "colab": {
          "base_uri": "https://localhost:8080/"
        },
        "id": "AQVh0Vx8i9PO",
        "outputId": "17172ac1-4280-4f79-82a2-d0d846dc70b1"
      },
      "source": [
        "! which python"
      ],
      "execution_count": 10,
      "outputs": [
        {
          "output_type": "stream",
          "text": [
            "/usr/local/bin/python\n"
          ],
          "name": "stdout"
        }
      ]
    },
    {
      "cell_type": "code",
      "metadata": {
        "colab": {
          "base_uri": "https://localhost:8080/"
        },
        "id": "zF2mrGTyjBJ4",
        "outputId": "64329d32-4eb6-47a9-fc6d-9fdcf7d2beea"
      },
      "source": [
        "! python --version"
      ],
      "execution_count": 11,
      "outputs": [
        {
          "output_type": "stream",
          "text": [
            "Python 3.6.9\n"
          ],
          "name": "stdout"
        }
      ]
    },
    {
      "cell_type": "code",
      "metadata": {
        "colab": {
          "base_uri": "https://localhost:8080/"
        },
        "id": "mnFE7DUzjMuv",
        "outputId": "4f784148-76ab-4e50-efdf-1a6fdb972a28"
      },
      "source": [
        "import sys\r\n",
        "print(sys.version)"
      ],
      "execution_count": 12,
      "outputs": [
        {
          "output_type": "stream",
          "text": [
            "3.6.9 (default, Oct  8 2020, 12:12:24) \n",
            "[GCC 8.4.0]\n"
          ],
          "name": "stdout"
        }
      ]
    },
    {
      "cell_type": "markdown",
      "metadata": {
        "id": "cuuM2afvjL5N"
      },
      "source": [
        ""
      ]
    },
    {
      "cell_type": "markdown",
      "metadata": {
        "id": "_6Yw6296e9bV"
      },
      "source": [
        "# Home Work / More readings\r\n",
        "\r\n",
        "\r\n",
        "\r\n",
        "*   Search the list of Articles about Google Colab and summarise them\r\n",
        "* Play with Basic Ubuntu Commands, Follow this article https://ubuntu.com/tutorials/command-line-for-beginners#4-creating-folders-and-files\r\n",
        "* How to connect GitHub and Mount Google Drive [Practice]\r\n",
        "*   Setting up Google Colab with VScode and JupyterLab using https://github.com/abhishekkrthakur/colabcode/\r\n"
      ]
    }
  ]
}
