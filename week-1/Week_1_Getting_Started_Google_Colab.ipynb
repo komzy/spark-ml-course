{
  "nbformat": 4,
  "nbformat_minor": 0,
  "metadata": {
    "colab": {
      "name": "Week_1_Getting Started Google Colab.ipynb",
      "provenance": [],
      "collapsed_sections": [],
      "toc_visible": true,
      "include_colab_link": true
    },
    "kernelspec": {
      "name": "python3",
      "display_name": "Python 3"
    }
  },
  "cells": [
    {
      "cell_type": "markdown",
      "metadata": {
        "id": "view-in-github",
        "colab_type": "text"
      },
      "source": [
        "<a href=\"https://colab.research.google.com/github/komzy/spark-ml-course/blob/main/week-1/Week_1_Getting_Started_Google_Colab.ipynb\" target=\"_parent\"><img src=\"https://colab.research.google.com/assets/colab-badge.svg\" alt=\"Open In Colab\"/></a>"
      ]
    },
    {
      "cell_type": "markdown",
      "metadata": {
        "id": "h3sh3aO2YDXX"
      },
      "source": [
        "# Welcome to the course: Machine Learning with Spark\n",
        "\n",
        "This course is offered by in collaboration of  [AI-LOUNG](http://ai-lounge.com/) & [Datafy2AI](https://www.datafy2ai.com/)\n",
        "\n",
        "Instructor: [Dr. Muhammad Amjad Raza](https://www.linkedin.com/in/amjadraza/)\n",
        "\n",
        "## Refresher:\n",
        "\n",
        "\n",
        "1.   Basic outline of the course\n",
        "2.   Lecture Schedule\n",
        "\n",
        "## Learning Objective of this Session:\n",
        "\n",
        "\n",
        "1.   Working Environment \n",
        "2.   Getting Strated with Google Colab\n",
        "3.   Readings/Tutorial \n"
      ]
    },
    {
      "cell_type": "markdown",
      "metadata": {
        "id": "6hasCvlBY1yq"
      },
      "source": [
        "# Coding and Working Environment\n",
        "\n",
        "Since this course is based on hands-on working style, we have to set up the working runtime. I have selected google colab keeping in view few key points\n",
        "\n",
        "\n",
        "1.   Easy to set up \n",
        "2.   Free with Google Account\n",
        "3.   Setting up Spark Environment on Base System\n",
        "4.   Free Cloud Computing with GPU and TPU support\n",
        "5.   Linux operating System\n",
        "6.   Integration with GitHub and Google Drive\n",
        "7.   Integration with VScode and JupyterLab [Using 3rd Party tooling]  \n",
        "8.   Easily switch between Python-2 and Python-3\n",
        "\n",
        "**The support for Python-2 is no more. We will using PYTHON-3 Through out this course**"
      ]
    },
    {
      "cell_type": "markdown",
      "metadata": {
        "id": "KySBZErha8Ll"
      },
      "source": [
        "# Machine Learning with Google Colab\n",
        "\n",
        "Setting up machine learning python environment often consumes a lot of time. It is advised to created dedicated environment for each of your project to avoid conflicts across requirements. The need of setting up dedicated environments even becomes more critical when working with SPARK due to the complex dependecies issues. Some of the benefits of using google colab for Machine Learning are\n",
        "\n",
        "\n",
        "\n",
        "1. Pre-Defined and tested environemnts for Machine Learning with Deep learning frameworks e.g TensorFlow, PyTorch etc.\n",
        "2. Sharing the machine learning notebooks across contributors to  reproduce the results.\n",
        "3. Start coding up the model in few minutes\n",
        "4. GPU and TPU have already gained attraction to train Machine Learning Models. Users can get the access to them free [Limited though]\n",
        "\n",
        "\n",
        "**Based on above points, I selected the Google Colab Framework for this course**\n"
      ]
    },
    {
      "cell_type": "markdown",
      "metadata": {
        "id": "6zoM9QhPgOfr"
      },
      "source": [
        "# Getting Started with Google Colab\n",
        "\n",
        "Google colab is hosted python framework with pre-installed packages. There are various tutorials written on \"Getting Started with Google Colab\". \n",
        "\n",
        "Below is one the famous one\n",
        "\n",
        "https://towardsdatascience.com/getting-started-with-google-colab-f2fff97f594c\n",
        "\n",
        "**>>Lets Get Started with Google Colab**"
      ]
    },
    {
      "cell_type": "markdown",
      "metadata": {
        "id": "lNpCdAPIhBq0"
      },
      "source": [
        "## Linux Commands\n",
        "\n",
        "The base operating system for Google colab is Linux based. It is always advantage to learn some basic Linux command line operations. \n"
      ]
    },
    {
      "cell_type": "code",
      "metadata": {
        "colab": {
          "base_uri": "https://localhost:8080/"
        },
        "id": "CvbUCzfGgwv-",
        "outputId": "5a0a4df2-9be0-4f02-e7fd-d2d85f3335be"
      },
      "source": [
        "# Current Working Directory\n",
        "! pwd"
      ],
      "execution_count": 1,
      "outputs": [
        {
          "output_type": "stream",
          "text": [
            "/content\n"
          ],
          "name": "stdout"
        }
      ]
    },
    {
      "cell_type": "code",
      "metadata": {
        "colab": {
          "base_uri": "https://localhost:8080/"
        },
        "id": "_nRXVKSggxBn",
        "outputId": "4bf9dec0-b1d3-44d0-e4cf-36dce4a14329"
      },
      "source": [
        "# the files under current Directory\n",
        "! ls"
      ],
      "execution_count": 15,
      "outputs": [
        {
          "output_type": "stream",
          "text": [
            "mlspark  sample_data\n"
          ],
          "name": "stdout"
        }
      ]
    },
    {
      "cell_type": "code",
      "metadata": {
        "colab": {
          "base_uri": "https://localhost:8080/"
        },
        "id": "GXdWjObGgxH0",
        "outputId": "adacae3a-da6c-4bac-f216-0a30b35e1f8e"
      },
      "source": [
        "# Username of the current user\n",
        "! whoami"
      ],
      "execution_count": 3,
      "outputs": [
        {
          "output_type": "stream",
          "text": [
            "root\n"
          ],
          "name": "stdout"
        }
      ]
    },
    {
      "cell_type": "code",
      "metadata": {
        "id": "qOHjzrVfgxKc",
        "outputId": "7dba67f1-8696-45f9-e888-5c218bd021a7",
        "colab": {
          "base_uri": "https://localhost:8080/"
        }
      },
      "source": [
        "# Change the Directory\n",
        "% cd sample_data/\n",
        "% cd .."
      ],
      "execution_count": 21,
      "outputs": [
        {
          "output_type": "stream",
          "text": [
            "/content/sample_data\n",
            "/content\n"
          ],
          "name": "stdout"
        }
      ]
    },
    {
      "cell_type": "code",
      "metadata": {
        "id": "w13BO92MiK9K"
      },
      "source": [
        "# make Directory (ies)\n",
        "! mkdir mlspark"
      ],
      "execution_count": 14,
      "outputs": []
    },
    {
      "cell_type": "code",
      "metadata": {
        "id": "fyjN7IUsiORz",
        "outputId": "6f91b0e6-f7d6-4cbf-f237-7806acc68d58",
        "colab": {
          "base_uri": "https://localhost:8080/"
        }
      },
      "source": [
        "# Delete Directory (ies)\n",
        "! rm -r mlspark\n",
        "!ls "
      ],
      "execution_count": 23,
      "outputs": [
        {
          "output_type": "stream",
          "text": [
            "sample_data\n"
          ],
          "name": "stdout"
        }
      ]
    },
    {
      "cell_type": "markdown",
      "metadata": {
        "id": "gW6Q9kTyilKi"
      },
      "source": [
        "## Basic Python\n",
        "\n",
        "Understanding the Python basic is the pre-requisite of this course. "
      ]
    },
    {
      "cell_type": "code",
      "metadata": {
        "colab": {
          "base_uri": "https://localhost:8080/"
        },
        "id": "AQVh0Vx8i9PO",
        "outputId": "0f9ad3b9-9388-4101-c6fe-4493ceee22e4"
      },
      "source": [
        "! which python"
      ],
      "execution_count": 24,
      "outputs": [
        {
          "output_type": "stream",
          "text": [
            "/usr/local/bin/python\n"
          ],
          "name": "stdout"
        }
      ]
    },
    {
      "cell_type": "code",
      "metadata": {
        "colab": {
          "base_uri": "https://localhost:8080/"
        },
        "id": "zF2mrGTyjBJ4",
        "outputId": "c5395d1c-54cc-4776-aac1-7dbd667095fc"
      },
      "source": [
        "! python --version"
      ],
      "execution_count": 25,
      "outputs": [
        {
          "output_type": "stream",
          "text": [
            "Python 3.7.10\n"
          ],
          "name": "stdout"
        }
      ]
    },
    {
      "cell_type": "code",
      "metadata": {
        "colab": {
          "base_uri": "https://localhost:8080/"
        },
        "id": "mnFE7DUzjMuv",
        "outputId": "1f27c37a-77dc-460a-8f52-cb2879b4aca3"
      },
      "source": [
        "import sys\n",
        "print(sys.version)"
      ],
      "execution_count": 26,
      "outputs": [
        {
          "output_type": "stream",
          "text": [
            "3.7.10 (default, Feb 20 2021, 21:17:23) \n",
            "[GCC 7.5.0]\n"
          ],
          "name": "stdout"
        }
      ]
    },
    {
      "cell_type": "code",
      "metadata": {
        "id": "Za5gOHaPGjhz",
        "outputId": "d901261b-2d58-46cb-e001-6a5cafe39b48",
        "colab": {
          "base_uri": "https://localhost:8080/"
        }
      },
      "source": [
        "import pandas as pd\n",
        "print(pd.__version__)"
      ],
      "execution_count": 27,
      "outputs": [
        {
          "output_type": "stream",
          "text": [
            "1.1.5\n"
          ],
          "name": "stdout"
        }
      ]
    },
    {
      "cell_type": "code",
      "metadata": {
        "id": "BS5ZVkcjQc88",
        "outputId": "ac2e924a-5fe9-4bc0-bc6f-77fb5af474b1",
        "colab": {
          "base_uri": "https://localhost:8080/"
        }
      },
      "source": [
        "from google.colab import drive \n",
        "drive.mount('/content/drive')"
      ],
      "execution_count": 28,
      "outputs": [
        {
          "output_type": "stream",
          "text": [
            "Mounted at /content/drive\n"
          ],
          "name": "stdout"
        }
      ]
    },
    {
      "cell_type": "code",
      "metadata": {
        "id": "s4L6Q4SSQ7kE",
        "outputId": "c3d32be6-d860-40ff-f717-de54b3200722",
        "colab": {
          "base_uri": "https://localhost:8080/"
        }
      },
      "source": [
        "!pwd\n",
        "!ls\n",
        "!ls drive\n",
        "!ls drive/MyDrive"
      ],
      "execution_count": 32,
      "outputs": [
        {
          "output_type": "stream",
          "text": [
            "/content\n",
            "drive  sample_data\n",
            "MyDrive  Shareddrives\n",
            " 25596.svs\n",
            " app\n",
            "'Gaze Annotations - Bugs and Feature Updates.gdoc'\n",
            "'Getting started.pdf'\n",
            "'ML: Attempting Option 1 By Arooj, Babar, Komal.gdoc'\n",
            "'Option 2 steps and troubleshooting.gdoc'\n",
            "'Paper + Certificate.zip'\n",
            " S19-126G.svs\n",
            "'smme transfer german.PNG'\n"
          ],
          "name": "stdout"
        }
      ]
    },
    {
      "cell_type": "markdown",
      "metadata": {
        "id": "cuuM2afvjL5N"
      },
      "source": [
        ""
      ]
    },
    {
      "cell_type": "markdown",
      "metadata": {
        "id": "_6Yw6296e9bV"
      },
      "source": [
        "# Home Work / More readings\n",
        "\n",
        "\n",
        "\n",
        "*   Search the list of Articles about Google Colab and summarise them\n",
        "* Play with Basic Ubuntu Commands, Follow this article https://ubuntu.com/tutorials/command-line-for-beginners#4-creating-folders-and-files\n",
        "* How to connect GitHub and Mount Google Drive [Practice]\n",
        "*   Setting up Google Colab with VScode and JupyterLab using https://github.com/abhishekkrthakur/colabcode/\n"
      ]
    }
  ]
}