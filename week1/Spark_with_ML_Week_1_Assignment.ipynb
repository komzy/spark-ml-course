{
  "nbformat": 4,
  "nbformat_minor": 0,
  "metadata": {
    "colab": {
      "name": "Spark with ML-Week 1 Assignment.ipynb",
      "provenance": [],
      "collapsed_sections": [],
      "toc_visible": true,
      "authorship_tag": "ABX9TyNmfifs8ABB2u5YinD6e3rl",
      "include_colab_link": true
    },
    "kernelspec": {
      "name": "python3",
      "display_name": "Python 3"
    },
    "language_info": {
      "name": "python"
    }
  },
  "cells": [
    {
      "cell_type": "markdown",
      "metadata": {
        "id": "view-in-github",
        "colab_type": "text"
      },
      "source": [
        "<a href=\"https://colab.research.google.com/github/komzy/spark-ml-course/blob/main/week1/Spark_with_ML_Week_1_Assignment.ipynb\" target=\"_parent\"><img src=\"https://colab.research.google.com/assets/colab-badge.svg\" alt=\"Open In Colab\"/></a>"
      ]
    },
    {
      "cell_type": "markdown",
      "metadata": {
        "id": "4RJhopfhJLGS"
      },
      "source": [
        "## Part A: Homework/Assignment\n",
        "Data : https://opendata.com.pk/dataset/corona-virus-pakistan-dataset-2020\n",
        "\n",
        "Download the Covid19 dataset for Pakistan and save in your Google Drive (preferably)\n",
        "\n",
        "* Load the data with Spark\n",
        "* Save the copy in `Parquet` and `ORC` format\n",
        "* Clean/transform the data if needed.\n",
        "\n",
        "\n",
        "### Answer Below Questions\n",
        "\n",
        "1. Plot the cummulative Suspected Cases/Tests/Admitted/Deaths/Recovered/\n",
        "2. Group by cases based on States and other columns\n",
        "3. Find the mean and median cases per day across Pakistan and different states Plot them for better visualization. \n",
        "4. Perform other analysis as you may think contribute in your learning\n",
        "\n",
        "> All these exercises must be done using Spark operations and submitted in Google colab notebook format through LMS. \n",
        "\n",
        "**Due Date: 20:00 hrs 12/04/2021** \n",
        "\n"
      ]
    },
    {
      "cell_type": "code",
      "metadata": {
        "id": "J5EHbjPhK87o"
      },
      "source": [
        "# Run below commands\n",
        "!apt-get install openjdk-8-jdk-headless -qq > /dev/null\n",
        "!wget -q http://apache.osuosl.org/spark/spark-3.1.1/spark-3.1.1-bin-hadoop3.2.tgz\n",
        "!tar xf spark-3.1.1-bin-hadoop3.2.tgz\n",
        "!pip install -q findspark\n",
        "!ls spark-3.1.1-bin-hadoop3.2/bin"
      ],
      "execution_count": null,
      "outputs": []
    },
    {
      "cell_type": "code",
      "metadata": {
        "id": "xsaZNdOmMIms"
      },
      "source": [
        "import os\n",
        "os.environ[\"JAVA_HOME\"] = \"/usr/lib/jvm/java-8-openjdk-amd64\"\n",
        "os.environ[\"SPARK_HOME\"] = \"/content/spark-3.1.1-bin-hadoop3.2\""
      ],
      "execution_count": null,
      "outputs": []
    },
    {
      "cell_type": "code",
      "metadata": {
        "colab": {
          "base_uri": "https://localhost:8080/"
        },
        "id": "Wd6niSQBMLCS",
        "outputId": "5060d530-d9f5-4ce1-a1da-58d83e0bcdaf"
      },
      "source": [
        "import findspark\n",
        "import pyspark\n",
        "\n",
        "findspark.init()\n",
        "\n",
        "spark = SparkSession \\\n",
        "        .builder \\\n",
        "        .master(\"local[*]\")\\\n",
        "        .appName('week1_assignment') \\\n",
        "        .getOrCreate()\n",
        "# Test the spark \n",
        "spark\n",
        "# Check the pyspark version\n",
        "print(pyspark.__version__)"
      ],
      "execution_count": 39,
      "outputs": [
        {
          "output_type": "stream",
          "text": [
            "+-----+\n",
            "|hello|\n",
            "+-----+\n",
            "|world|\n",
            "|world|\n",
            "|world|\n",
            "+-----+\n",
            "only showing top 3 rows\n",
            "\n",
            "3.1.1\n"
          ],
          "name": "stdout"
        }
      ]
    },
    {
      "cell_type": "code",
      "metadata": {
        "colab": {
          "base_uri": "https://localhost:8080/"
        },
        "id": "MeofrofnQomn",
        "outputId": "ad75b159-7128-4026-b4bd-20e565809d2c"
      },
      "source": [
        "!ls"
      ],
      "execution_count": 40,
      "outputs": [
        {
          "output_type": "stream",
          "text": [
            "covid_final_data.xlsx  spark-3.1.1-bin-hadoop3.2\n",
            "sample_data\t       spark-3.1.1-bin-hadoop3.2.tgz\n"
          ],
          "name": "stdout"
        }
      ]
    },
    {
      "cell_type": "code",
      "metadata": {
        "colab": {
          "base_uri": "https://localhost:8080/"
        },
        "id": "onY1BMCOM6RG",
        "outputId": "820ef996-5c6a-4f1f-bd17-f88d9b5a4a5b"
      },
      "source": [
        "from datetime import datetime, date\n",
        "import pandas as pd\n",
        "from pyspark.sql import Row"
      ],
      "execution_count": null,
      "outputs": [
        {
          "output_type": "execute_result",
          "data": {
            "text/plain": [
              "DataFrame[aa: bigint, bb: double, cc: string, dd: date, ee: timestamp]"
            ]
          },
          "metadata": {
            "tags": []
          },
          "execution_count": 12
        }
      ]
    },
    {
      "cell_type": "code",
      "metadata": {
        "id": "H2bGgpbdQdBg"
      },
      "source": [
        "#Load Data with Spark and convert to spark.DataFrames\n",
        "pandas_df = pd.read_excel('covid_final_data.xlsx')\n",
        "pandas_df[\"Date\"]= pd.to_datetime(pandas_df.Date)\n",
        "\n",
        "n= \"Tests  performed in last 24 hours\"    \n",
        "input = pandas_df[n]\n",
        "output = []\n",
        "for letter in input :\n",
        "        try :\n",
        "            int(letter)\n",
        "            output.append(letter)\n",
        "\n",
        "        except ValueError :\n",
        "                output.append(0)\n",
        "                pass\n",
        "\n",
        "pandas_df[n] = output\n",
        "#pandas_df.head(52)\n",
        "\n",
        "spark_df = spark.createDataFrame(pandas_df)\n",
        "#spark_df.show(52,False)\n"
      ],
      "execution_count": 184,
      "outputs": []
    },
    {
      "cell_type": "code",
      "metadata": {
        "id": "HrsyGPSe625p"
      },
      "source": [
        "#write/read in ORC\n",
        "spark_df.write.orc('covid_final_data.orc')\n",
        "!ls\n",
        "#spark.read.orc('covid_final_data.orc').show()"
      ],
      "execution_count": null,
      "outputs": []
    },
    {
      "cell_type": "code",
      "metadata": {
        "colab": {
          "base_uri": "https://localhost:8080/",
          "height": 297
        },
        "id": "YHYAXCp1EC2T",
        "outputId": "b496f96e-0e7a-40a2-e4c7-4765ebbc749f"
      },
      "source": [
        "# Convert Spark DataFrame to Pandas. \n",
        "df_pandas = spark_df.toPandas()  \n",
        "df_pandas.plot(x ='Date', y='Cumulative', kind = 'scatter')\n"
      ],
      "execution_count": 215,
      "outputs": [
        {
          "output_type": "execute_result",
          "data": {
            "text/plain": [
              "<matplotlib.axes._subplots.AxesSubplot at 0x7f61892a9310>"
            ]
          },
          "metadata": {
            "tags": []
          },
          "execution_count": 215
        },
        {
          "output_type": "display_data",
          "data": {
            "image/png": "[encoded data removed]",
            "text/plain": [
              "<Figure size 432x288 with 1 Axes>"
            ]
          },
          "metadata": {
            "tags": [],
            "needs_background": "light"
          }
        }
      ]
    }
  ]
}